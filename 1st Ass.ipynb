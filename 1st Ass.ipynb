{
 "cells": [
  {
   "cell_type": "markdown",
   "id": "c7e7a9a4-3422-42f8-8bf2-3f9364837f35",
   "metadata": {},
   "source": [
    " Q.1 Explain the key fetures of python that make it a populer choice for programming"
   ]
  },
  {
   "cell_type": "markdown",
   "id": "f43c1d7a-8697-44f4-bd7e-af36fdba8e0d",
   "metadata": {},
   "source": [
    " Ans: Python is popular due to:\n",
    "\n",
    "1 Readable Syntax: Easy to understand and write.\n",
    "\n",
    "2.Versatility: Used in web development, data science, AI, etc.\n",
    "\n",
    "3.Standard Library: Extensive modules for various tasks.\n",
    "\n",
    "4.Community Support: Large, active community and vast resources.\n",
    "\n",
    "5.Cross-Platform: Runs on Windows, macOS, and Linux.\n",
    "\n",
    "6.Interpreted: Easy testing and debugging.\n",
    "\n",
    "7.Integration: Works well with other languages and technologies.\n",
    "\n",
    "8.Dynamic Typing: Flexible and reduces boilerplate code.\n",
    "\n",
    "9.Multi-Paradigm: Supports object-oriented, functional, and procedural programming.\n",
    "\n",
    "10.High Demand: Widely used in industry, leading to strong job prospects."
   ]
  },
  {
   "cell_type": "markdown",
   "id": "f7e520ac-36c9-43c6-aaea-64c364cb7594",
   "metadata": {},
   "source": [
    "Q>2: Describe the role of predefind keywords in python and provided example of how they use in a program"
   ]
  },
  {
   "cell_type": "markdown",
   "id": "3fe8785e-6621-4d1b-9ced-c01ccc9def95",
   "metadata": {},
   "source": [
    "Ans: \n",
    "redefined keywords in Python are reserved words that have special meanings and functions. They are essential for writing Python code and cannot be used as identifiers (names for variables, functions, etc.)."
   ]
  },
  {
   "cell_type": "markdown",
   "id": "62f16181-47a6-46bd-a7ac-9e0058c10569",
   "metadata": {},
   "source": [
    "Examples:\n",
    "1.  if, elif, else: Used for conditional statements."
   ]
  },
  {
   "cell_type": "code",
   "execution_count": 2,
   "id": "05b7cef2-37fc-49c3-850d-ee8a2c4dd72a",
   "metadata": {},
   "outputs": [
    {
     "name": "stdout",
     "output_type": "stream",
     "text": [
      "x is less than 10\n"
     ]
    }
   ],
   "source": [
    "x = 5  # Example value for x\n",
    "\n",
    "if x > 10:\n",
    "    print(\"x is greater than 10\")\n",
    "elif x == 10:\n",
    "    print(\"x is 10\")\n",
    "else:\n",
    "    print(\"x is less than 10\")\n"
   ]
  },
  {
   "cell_type": "markdown",
   "id": "666b139f-b345-4fcc-b020-926ba1506656",
   "metadata": {},
   "source": [
    "2  for, while: Used for loops."
   ]
  },
  {
   "cell_type": "code",
   "execution_count": 12,
   "id": "79473937-7e2d-4c6c-acae-984df8357ba1",
   "metadata": {},
   "outputs": [
    {
     "name": "stdout",
     "output_type": "stream",
     "text": [
      "0\n",
      "1\n",
      "2\n",
      "3\n",
      "4\n"
     ]
    }
   ],
   "source": [
    "for i in range(5):\n",
    "    print(i)\n",
    "\n",
    "while x < 10:\n",
    "    print(x)\n",
    "    x += 1\n"
   ]
  },
  {
   "cell_type": "markdown",
   "id": "c3da0f70-a892-48af-907e-9d9ec43953fd",
   "metadata": {},
   "source": [
    "3. def: Used to define a function."
   ]
  },
  {
   "cell_type": "code",
   "execution_count": 13,
   "id": "c1605b86-722b-48fb-a0f0-ce3c9957e7b4",
   "metadata": {},
   "outputs": [],
   "source": [
    "def greet(name):\n",
    "    return f\"Hello, {name}!\"\n"
   ]
  },
  {
   "cell_type": "markdown",
   "id": "1042c3f1-6645-4e8b-b63c-cce5c999aea2",
   "metadata": {},
   "source": [
    "Q>3Compare and cotract mutable and immutale object in python with example."
   ]
  },
  {
   "cell_type": "markdown",
   "id": "892b6275-379f-44c6-bcb8-afccd58790a7",
   "metadata": {},
   "source": [
    "Mutable Objects\n",
    "\n",
    "Definition: Objects whose state or content can be changed after creation.\n",
    "\n",
    "    Examples:\n"
   ]
  },
  {
   "cell_type": "code",
   "execution_count": 20,
   "id": "c038d2c8-8fc2-4ca0-9f67-bdd4c703861e",
   "metadata": {},
   "outputs": [],
   "source": [
    "# List\n",
    "\n",
    "my_list = [1, 2, 3]\n",
    "my_list[0] = 4  # Now my_list is [4, 2, 3]\n"
   ]
  },
  {
   "cell_type": "code",
   "execution_count": 21,
   "id": "258dcfb7-e2f8-49a0-a1c5-2b2208cd8619",
   "metadata": {},
   "outputs": [],
   "source": [
    "# Dictionary\n",
    "\n",
    "my_dict = {'a': 1, 'b': 2}\n",
    "my_dict['a'] = 3  # Now my_dict is {'a': 3, 'b': 2}\n"
   ]
  },
  {
   "cell_type": "markdown",
   "id": "80a5083a-b284-4d97-ad6b-e8df13001791",
   "metadata": {},
   "source": [
    "Comparison\n",
    "\n",
    "Mutability: Mutable objects can be modified in place, whereas immutable objects cannot be changed after creation.\n",
    "\n",
    "Performance: Immutable objects can be more memory efficient and can lead to performance benefits in certain situations because they are hashable and can be used as keys in dictionaries.\n",
    "\n",
    "Safety: Immutable objects provide more safety when used as constants or when shared across different parts of a program, reducing the risk of accidental changes."
   ]
  },
  {
   "cell_type": "markdown",
   "id": "ea92aeff-fc01-40f5-b6e8-77fac919017f",
   "metadata": {},
   "source": [
    "Example of Usage:"
   ]
  },
  {
   "cell_type": "code",
   "execution_count": 23,
   "id": "99b3f9b3-d414-4329-8a4a-83fc2bd8a67f",
   "metadata": {},
   "outputs": [
    {
     "name": "stdout",
     "output_type": "stream",
     "text": [
      "[1, 2, 3]\n",
      "[1, 2, 3, 4]\n"
     ]
    }
   ],
   "source": [
    "# Mutable Example:\n",
    "\n",
    "my_list = [1, 2, 3]\n",
    "print(my_list)  # Output: [1, 2, 3]\n",
    "my_list.append(4)\n",
    "print(my_list)  # Output: [1, 2, 3, 4]\n"
   ]
  },
  {
   "cell_type": "code",
   "execution_count": 24,
   "id": "136d7526-87ea-4e3f-ada7-a5e84d4aaf7b",
   "metadata": {},
   "outputs": [
    {
     "name": "stdout",
     "output_type": "stream",
     "text": [
      "hello\n",
      "'str' object does not support item assignment\n",
      "Hello\n"
     ]
    }
   ],
   "source": [
    "# Immutable Example:\n",
    "\n",
    "my_string = \"hello\"\n",
    "print(my_string)  # Output: hello\n",
    "# Attempting to modify the string\n",
    "try:\n",
    "    my_string[0] = 'H'\n",
    "except TypeError as e:\n",
    "    print(e)  # Output: 'str' object does not support item assignment\n",
    "\n",
    "# To \"change\" the string, create a new one\n",
    "new_string = 'H' + my_string[1:]\n",
    "print(new_string)  # Output: Hello\n"
   ]
  },
  {
   "cell_type": "markdown",
   "id": "7804a802-689c-4cd1-8311-4c2ecbe6d8d6",
   "metadata": {},
   "source": [
    "Q.4 Discuss the deferent type of opeater in python and provided examples of how thy are use."
   ]
  },
  {
   "cell_type": "markdown",
   "id": "cadded11-77d9-4987-ae9b-a519c1c95b6b",
   "metadata": {},
   "source": [
    "1. Arithmetic Operators\n",
    "\n",
    "Used to perform mathematical operations."
   ]
  },
  {
   "cell_type": "code",
   "execution_count": 2,
   "id": "02421898-7126-4669-b5d7-3fdae5efc602",
   "metadata": {},
   "outputs": [
    {
     "name": "stdout",
     "output_type": "stream",
     "text": [
      "8\n"
     ]
    }
   ],
   "source": [
    "# Addition (+)\n",
    "x = 5\n",
    "y = 3\n",
    "print(x + y)  \n"
   ]
  },
  {
   "cell_type": "code",
   "execution_count": 3,
   "id": "1c25d702-79e5-421a-b53d-69c7d1b5422e",
   "metadata": {},
   "outputs": [
    {
     "name": "stdout",
     "output_type": "stream",
     "text": [
      "2\n"
     ]
    }
   ],
   "source": [
    "# Subtraction (-)\n",
    "print(x - y)  \n"
   ]
  },
  {
   "cell_type": "code",
   "execution_count": 4,
   "id": "b069d631-5271-4436-afe5-5b10518ebb88",
   "metadata": {},
   "outputs": [
    {
     "name": "stdout",
     "output_type": "stream",
     "text": [
      "15\n"
     ]
    }
   ],
   "source": [
    "# Multiplication (*)\n",
    "print(x * y)"
   ]
  },
  {
   "cell_type": "code",
   "execution_count": 6,
   "id": "d225883e-728c-49f5-bb69-ed9ede9171ee",
   "metadata": {},
   "outputs": [
    {
     "name": "stdout",
     "output_type": "stream",
     "text": [
      "1.6666666666666667\n"
     ]
    }
   ],
   "source": [
    "# Division (/)\n",
    "print(x / y)  \n"
   ]
  },
  {
   "cell_type": "code",
   "execution_count": 7,
   "id": "264db872-4a73-491f-b706-7ac96d4ade2a",
   "metadata": {},
   "outputs": [
    {
     "name": "stdout",
     "output_type": "stream",
     "text": [
      "2\n"
     ]
    }
   ],
   "source": [
    "# Modulus (%)\n",
    "print(x % y) "
   ]
  },
  {
   "cell_type": "code",
   "execution_count": 8,
   "id": "924ec656-d75e-4891-b9c6-06a17002cde1",
   "metadata": {},
   "outputs": [
    {
     "name": "stdout",
     "output_type": "stream",
     "text": [
      "125\n"
     ]
    }
   ],
   "source": [
    "# Exponentiation (**)\n",
    "print(x ** y)  "
   ]
  },
  {
   "cell_type": "code",
   "execution_count": 9,
   "id": "900790f6-8ff9-445b-b860-a7e08cee11fe",
   "metadata": {},
   "outputs": [
    {
     "name": "stdout",
     "output_type": "stream",
     "text": [
      "1\n"
     ]
    }
   ],
   "source": [
    "# Floor Division (//)\n",
    "print(x // y)"
   ]
  },
  {
   "cell_type": "markdown",
   "id": "ed3d89ff-a17e-4314-b677-e17b048a63b9",
   "metadata": {},
   "source": [
    "2. Comparison Operators\n",
    "\n",
    "Used to compare two values."
   ]
  },
  {
   "cell_type": "code",
   "execution_count": 10,
   "id": "c9c16307-4d9c-4ee0-aaf0-b45e89eb00c1",
   "metadata": {},
   "outputs": [
    {
     "name": "stdout",
     "output_type": "stream",
     "text": [
      "False\n"
     ]
    }
   ],
   "source": [
    "# Equal (==)\n",
    "print(x == y) "
   ]
  },
  {
   "cell_type": "code",
   "execution_count": 11,
   "id": "0b2f6860-9027-4cba-9fb9-334eff166ac4",
   "metadata": {},
   "outputs": [
    {
     "name": "stdout",
     "output_type": "stream",
     "text": [
      "True\n"
     ]
    }
   ],
   "source": [
    "# Not Equal (!=)\n",
    "print(x != y) "
   ]
  },
  {
   "cell_type": "code",
   "execution_count": 12,
   "id": "4ec27902-a9fd-4e78-81d8-86678ab011e9",
   "metadata": {},
   "outputs": [
    {
     "name": "stdout",
     "output_type": "stream",
     "text": [
      "True\n"
     ]
    }
   ],
   "source": [
    "# Greater Than (>)\n",
    "print(x > y) "
   ]
  },
  {
   "cell_type": "code",
   "execution_count": 13,
   "id": "e6ff27d5-4be7-40b4-babe-0cf7866c9738",
   "metadata": {},
   "outputs": [
    {
     "name": "stdout",
     "output_type": "stream",
     "text": [
      "False\n"
     ]
    }
   ],
   "source": [
    "# Less Than (<)\n",
    "print(x < y) "
   ]
  },
  {
   "cell_type": "code",
   "execution_count": 14,
   "id": "ad193401-bb49-4ad8-a6ff-62add36b2f53",
   "metadata": {},
   "outputs": [
    {
     "name": "stdout",
     "output_type": "stream",
     "text": [
      "True\n"
     ]
    }
   ],
   "source": [
    "# Greater Than or Equal To (>=)\n",
    "print(x >= y)"
   ]
  },
  {
   "cell_type": "code",
   "execution_count": 15,
   "id": "51cba7f6-89d4-430e-a5ec-8ca762de98b8",
   "metadata": {},
   "outputs": [
    {
     "name": "stdout",
     "output_type": "stream",
     "text": [
      "False\n"
     ]
    }
   ],
   "source": [
    "# Less Than or Equal To (<=)\n",
    "print(x <= y) "
   ]
  },
  {
   "cell_type": "markdown",
   "id": "d29cf818-f33f-4faa-89b3-b26a8de3fb61",
   "metadata": {},
   "source": [
    "3. Logical Operators\n",
    "\n",
    "Used to combine conditional statements."
   ]
  },
  {
   "cell_type": "markdown",
   "id": "f1634480-bc0a-4d92-bcde-910a447a6ffa",
   "metadata": {},
   "source": [
    "-  AND (and)"
   ]
  },
  {
   "cell_type": "code",
   "execution_count": 16,
   "id": "93ab660a-b273-435f-84ce-06912109b98f",
   "metadata": {},
   "outputs": [
    {
     "name": "stdout",
     "output_type": "stream",
     "text": [
      "False\n"
     ]
    }
   ],
   "source": [
    "a = True\n",
    "b = False\n",
    "print(a and b)  \n"
   ]
  },
  {
   "cell_type": "code",
   "execution_count": 2,
   "id": "e331b0ae-ea73-4801-99ef-a48a059c85db",
   "metadata": {},
   "outputs": [
    {
     "data": {
      "text/plain": [
       "True"
      ]
     },
     "execution_count": 2,
     "metadata": {},
     "output_type": "execute_result"
    }
   ],
   "source": [
    "True and True"
   ]
  },
  {
   "cell_type": "code",
   "execution_count": 3,
   "id": "eecd25d2-11e9-48ae-9b1f-e7a90bb59cd5",
   "metadata": {},
   "outputs": [
    {
     "data": {
      "text/plain": [
       "False"
      ]
     },
     "execution_count": 3,
     "metadata": {},
     "output_type": "execute_result"
    }
   ],
   "source": [
    "True and False"
   ]
  },
  {
   "cell_type": "markdown",
   "id": "7e7fe45a-66e1-4a9c-8792-178042f057b2",
   "metadata": {},
   "source": [
    "- OR (or)"
   ]
  },
  {
   "cell_type": "code",
   "execution_count": 4,
   "id": "dc9bbdc9-0513-4af8-8a31-7f2a87383420",
   "metadata": {},
   "outputs": [
    {
     "data": {
      "text/plain": [
       "True"
      ]
     },
     "execution_count": 4,
     "metadata": {},
     "output_type": "execute_result"
    }
   ],
   "source": [
    "True or True"
   ]
  },
  {
   "cell_type": "code",
   "execution_count": 5,
   "id": "2238449f-57af-46ae-96b7-81a83cffd794",
   "metadata": {},
   "outputs": [
    {
     "data": {
      "text/plain": [
       "True"
      ]
     },
     "execution_count": 5,
     "metadata": {},
     "output_type": "execute_result"
    }
   ],
   "source": [
    "True or False"
   ]
  },
  {
   "cell_type": "code",
   "execution_count": 7,
   "id": "f1771a09-9261-4528-916e-a9de5c7ff8d2",
   "metadata": {},
   "outputs": [
    {
     "data": {
      "text/plain": [
       "True"
      ]
     },
     "execution_count": 7,
     "metadata": {},
     "output_type": "execute_result"
    }
   ],
   "source": [
    "False or True"
   ]
  },
  {
   "cell_type": "code",
   "execution_count": 8,
   "id": "4709c704-af07-4dbb-8609-8bf6fd4c2dbf",
   "metadata": {},
   "outputs": [
    {
     "data": {
      "text/plain": [
       "False"
      ]
     },
     "execution_count": 8,
     "metadata": {},
     "output_type": "execute_result"
    }
   ],
   "source": [
    "False or False"
   ]
  },
  {
   "cell_type": "markdown",
   "id": "ffe906c0-c1f7-4120-be6b-e34992b07e6f",
   "metadata": {},
   "source": [
    "4. Assignment Operators"
   ]
  },
  {
   "cell_type": "markdown",
   "id": "db9ac2e2-1f3b-4cdb-a66e-6c772cb0020b",
   "metadata": {},
   "source": [
    "Types:\n",
    "\n",
    "1  \"=\": Assigns the value on the right to the variable on the left.\n",
    "\n",
    "2 \"+=\": Adds the right operand to the left operand and assigns the result to the left operand.\n",
    "\n",
    "3 \"-=\": Subtracts the right operand from the left operand and assigns the result to the left operand.\n",
    "\n",
    "4 \"*=\": Multiplies the left operand by the right operand and assigns the result to the left operand.\n",
    "\n",
    "5 \"/=\": Divides the left operand by the right operand and assigns the result to the left operand.\n",
    "\n",
    "6 \"%=\": Takes the modulus of the left operand with the right operand and assigns the result to the left operand.\n",
    "\n",
    "7 \"**=\": Raises the left operand to the power of the right operand and assigns the result to the left operand.\n",
    "\n",
    "8 \"//=\": Performs floor division on the left operand by the right operand and assigns the result to the left operand."
   ]
  },
  {
   "cell_type": "code",
   "execution_count": 3,
   "id": "1d650954-5bd5-4145-9c76-b47217027a78",
   "metadata": {},
   "outputs": [
    {
     "name": "stdout",
     "output_type": "stream",
     "text": [
      "15\n",
      "30\n"
     ]
    }
   ],
   "source": [
    "#Example:\n",
    "x = 10\n",
    "x += 5  # Equivalent to x = x + 5\n",
    "print(x)  # Output: 15\n",
    "x *= 2  # Equivalent to x = x * 2\n",
    "print(x)  # Output: 30"
   ]
  },
  {
   "cell_type": "markdown",
   "id": "306c072b-077f-43d6-9680-aa0f35185758",
   "metadata": {},
   "source": [
    "5. Bitwise Operators"
   ]
  },
  {
   "cell_type": "markdown",
   "id": "f219b78e-0591-4b15-80d5-4e989369f7ae",
   "metadata": {},
   "source": [
    "Types:\n",
    "    \n",
    "1 '&' (AND): Performs a bitwise AND operation.\n",
    "\n",
    "2 '|' (OR): Performs a bitwise OR operation.\n",
    "\n",
    "3 '^' (XOR): Performs a bitwise XOR operation.\n",
    "\n",
    "4 '~' (NOT): Performs a bitwise NOT operation (inverts all the bits).\n",
    "\n",
    "5 '<<' (Left Shift): Shifts the bits of the first operand left by the number of positions specified by the second operand.\n",
    "\n",
    "6 '>>' (Right Shift): Shifts the bits of the first operand right by the number of positions specified by the second operand."
   ]
  },
  {
   "cell_type": "code",
   "execution_count": 4,
   "id": "09e9cfd9-dc3d-4d42-bd70-a667bb3700ba",
   "metadata": {},
   "outputs": [
    {
     "name": "stdout",
     "output_type": "stream",
     "text": [
      "1\n",
      "7\n",
      "6\n",
      "-6\n",
      "10\n",
      "2\n"
     ]
    }
   ],
   "source": [
    "# Example:\n",
    "a = 5  # Binary: 0101\n",
    "b = 3  # Binary: 0011\n",
    "print(a & b)  # Output: 1 (Binary: 0001)\n",
    "print(a | b)  # Output: 7 (Binary: 0111)\n",
    "print(a ^ b)  # Output: 6 (Binary: 0110)\n",
    "print(~a)     # Output: -6 (Binary: -0110 in two's complement form)\n",
    "print(a << 1) # Output: 10 (Binary: 1010)\n",
    "print(a >> 1) # Output: 2 (Binary: 0010)"
   ]
  },
  {
   "cell_type": "markdown",
   "id": "16883535-ef47-4e91-bea5-d0c4315e0525",
   "metadata": {},
   "source": [
    "6. Membership Operators"
   ]
  },
  {
   "cell_type": "markdown",
   "id": "569fa423-52ee-4c5c-87d6-865fd63c5c2a",
   "metadata": {},
   "source": [
    "Types:\n",
    "    \n",
    "'in': Returns 'True' if the specified value is found in the sequence.\n",
    "\n",
    "'not in': Returns 'True' if the specified value is not found in the sequence."
   ]
  },
  {
   "cell_type": "code",
   "execution_count": 5,
   "id": "bc9e7006-e18e-421b-9d00-597f0bea94ad",
   "metadata": {},
   "outputs": [
    {
     "name": "stdout",
     "output_type": "stream",
     "text": [
      "True\n",
      "True\n"
     ]
    }
   ],
   "source": [
    "# Example:\n",
    "list1 = [1, 2, 3, 4, 5]\n",
    "print(3 in list1)    # Output: True\n",
    "print(6 not in list1)  # Output: True\n",
    "\n"
   ]
  },
  {
   "cell_type": "markdown",
   "id": "9eddb33a-65fa-4a0e-ad11-dd13144c7aaf",
   "metadata": {},
   "source": [
    "7. Identity Operators"
   ]
  },
  {
   "cell_type": "markdown",
   "id": "b558f3a1-3d7d-4d2b-b262-141a830b623e",
   "metadata": {},
   "source": [
    "Types:\n",
    "    \n",
    "'is': Returns 'True' if the operands refer to the same object.\n",
    "\n",
    "'is not': Returns 'True' if the operands do not refer to the same object."
   ]
  },
  {
   "cell_type": "code",
   "execution_count": 6,
   "id": "16faf1ed-7e74-476a-8cca-1b5446153203",
   "metadata": {},
   "outputs": [
    {
     "name": "stdout",
     "output_type": "stream",
     "text": [
      "True\n",
      "False\n",
      "True\n"
     ]
    }
   ],
   "source": [
    "# Example:\n",
    "x = [1, 2, 3]\n",
    "y = [1, 2, 3]\n",
    "z = x\n",
    "print(x is z)  # Output: True (same memory location)\n",
    "print(x is y)  # Output: False (different memory locations)\n",
    "print(x == y)  # Output: True (same content)\n"
   ]
  },
  {
   "cell_type": "markdown",
   "id": "229d67cf-41fd-4235-b476-eaf130ce7f51",
   "metadata": {},
   "source": [
    "Q.5 Explain the concept of type casting in Python with examples,"
   ]
  },
  {
   "cell_type": "markdown",
   "id": "ea7fe7b4-bf53-4d74-a098-03b88f08bdc7",
   "metadata": {},
   "source": [
    "Ans:- Type casting is the process of converting one data type to another. Python provides two ways to perform type casting:"
   ]
  },
  {
   "cell_type": "markdown",
   "id": "13910edf-7275-4472-a4be-bcaa0303e3a6",
   "metadata": {},
   "source": [
    "1. Implicit Type Casting\n",
    "\n",
    "Python automatically converts one data type to another during operations when needed.\n",
    "\n",
    "Example:"
   ]
  },
  {
   "cell_type": "code",
   "execution_count": 7,
   "id": "f1cd782c-4198-4814-9856-f6e215a15122",
   "metadata": {},
   "outputs": [
    {
     "name": "stdout",
     "output_type": "stream",
     "text": [
      "13.5\n"
     ]
    }
   ],
   "source": [
    "num_int = 10       # Integer\n",
    "num_float = 3.5    # Float\n",
    "result = num_int + num_float  # Implicitly converts num_int to float\n",
    "print(result)  # Output: 13.5 (Float)\n"
   ]
  },
  {
   "cell_type": "markdown",
   "id": "5be0f26f-6879-4d3e-bedf-57106d4f5a50",
   "metadata": {},
   "source": [
    "2. Explicit Type Casting\n",
    "\n",
    "The programmer manually converts a value's data type using built-in functions like int(), float(), str(), etc.\n",
    "\n",
    "Examples:"
   ]
  },
  {
   "cell_type": "code",
   "execution_count": 8,
   "id": "32307e4f-29ac-4be8-913f-2179fc796652",
   "metadata": {},
   "outputs": [
    {
     "name": "stdout",
     "output_type": "stream",
     "text": [
      "100\n",
      "8\n"
     ]
    }
   ],
   "source": [
    "# Convert string to integer\n",
    "num_str = \"100\"\n",
    "num_int = int(num_str)\n",
    "print(num_int)  # Output: 100 (Integer)\n",
    "\n",
    "# Convert float to integer\n",
    "num_float = 8.9\n",
    "num_int = int(num_float)\n",
    "print(num_int)  # Output: 8 (Integer)\n"
   ]
  },
  {
   "cell_type": "markdown",
   "id": "a9a56665-a501-4903-8444-ada9921426d5",
   "metadata": {},
   "source": [
    "Q.6 0 How do conditional statements wo$k in Python? Illust$ate with examples.\n"
   ]
  },
  {
   "cell_type": "markdown",
   "id": "c98bba1e-a967-4915-9832-3b931900a07e",
   "metadata": {},
   "source": [
    " Ans:- Types of Conditional Statements in Python:\n",
    "    \n",
    "if statement\n",
    "\n",
    "Executes a block of code if the condition is true.\n",
    "\n",
    "Syntax:"
   ]
  },
  {
   "cell_type": "code",
   "execution_count": 13,
   "id": "8d9ee7f4-01e0-4f21-8c54-eb863ffc9bbf",
   "metadata": {},
   "outputs": [
    {
     "name": "stdout",
     "output_type": "stream",
     "text": [
      "You are eligible to vote.\n"
     ]
    }
   ],
   "source": [
    "age = 18\n",
    "if age >= 18:\n",
    "    print(\"You are eligible to vote.\")\n"
   ]
  },
  {
   "cell_type": "markdown",
   "id": "86d1a00c-f21a-4d24-9728-e3eff76c7929",
   "metadata": {},
   "source": [
    "if-else statement\n",
    "\n",
    "Executes one block of code if the condition is true and another block if the condition is false.\n",
    "\n",
    "Syntax:-"
   ]
  },
  {
   "cell_type": "code",
   "execution_count": 14,
   "id": "7d2296fe-fef4-4bba-91cd-2b81e1e8b819",
   "metadata": {},
   "outputs": [
    {
     "name": "stdout",
     "output_type": "stream",
     "text": [
      "You are not eligible to vote.\n"
     ]
    }
   ],
   "source": [
    "age = 16\n",
    "if age >= 18:\n",
    "    print(\"You are eligible to vote.\")\n",
    "else:\n",
    "    print(\"You are not eligible to vote.\")\n"
   ]
  },
  {
   "cell_type": "markdown",
   "id": "059c74f3-5d4d-4a2a-ae4f-b8c876db239e",
   "metadata": {},
   "source": [
    "if-elif-else statement\n",
    "\n",
    "Tests multiple conditions in sequence. The first true condition executes its block of code; if none are true, the else block runs.\n",
    "\n",
    "Syntax:-"
   ]
  },
  {
   "cell_type": "code",
   "execution_count": 15,
   "id": "7237cf05-897b-4139-a42d-f59b5239832e",
   "metadata": {},
   "outputs": [
    {
     "name": "stdout",
     "output_type": "stream",
     "text": [
      "Grade: C\n"
     ]
    }
   ],
   "source": [
    "score = 75\n",
    "if score >= 90:\n",
    "    print(\"Grade: A\")\n",
    "elif score >= 80:\n",
    "    print(\"Grade: B\")\n",
    "elif score >= 70:\n",
    "    print(\"Grade: C\")\n",
    "else:\n",
    "    print(\"Grade: D\")\n"
   ]
  },
  {
   "cell_type": "markdown",
   "id": "d8edb70c-bcab-4132-a858-e732bffe1266",
   "metadata": {},
   "source": [
    "Q.7 Describe the diffenent types of loops in Python and their use cases with examples."
   ]
  },
  {
   "cell_type": "markdown",
   "id": "35a022c5-8942-4718-8788-4d2f09759227",
   "metadata": {},
   "source": [
    "1. for Loop\n",
    "\n",
    "Description: The for loop is used to iterate over a sequence (such as a list, tuple, dictionary, set, or string) and execute a block of code for each item in the sequence.\n",
    "\n",
    "Use Case: When you know the number of iterations in advance or when iterating over a fixed sequence.\n",
    "\n",
    "Syntax:"
   ]
  },
  {
   "cell_type": "code",
   "execution_count": 16,
   "id": "a9489605-abd5-4f9a-b95c-5773329d8a11",
   "metadata": {},
   "outputs": [
    {
     "name": "stdout",
     "output_type": "stream",
     "text": [
      "apple\n",
      "banana\n",
      "cherry\n"
     ]
    }
   ],
   "source": [
    "# Iterating over a list\n",
    "fruits = [\"apple\", \"banana\", \"cherry\"]\n",
    "for fruit in fruits:\n",
    "    print(fruit)\n"
   ]
  },
  {
   "cell_type": "markdown",
   "id": "b3e93d2e-3bd6-48f0-a6a8-3365c9b8903b",
   "metadata": {},
   "source": [
    "Example with range() function:"
   ]
  },
  {
   "cell_type": "code",
   "execution_count": 17,
   "id": "7d94f7c2-bbd1-46a5-8078-a08b0ef57691",
   "metadata": {},
   "outputs": [
    {
     "name": "stdout",
     "output_type": "stream",
     "text": [
      "0\n",
      "1\n",
      "2\n",
      "3\n",
      "4\n"
     ]
    }
   ],
   "source": [
    "# Printing numbers from 0 to 4\n",
    "for i in range(5):\n",
    "    print(i)\n"
   ]
  },
  {
   "cell_type": "markdown",
   "id": "0b5803f7-f7cc-456c-873c-aeff87c7c9b7",
   "metadata": {},
   "source": [
    "2. while Loop\n",
    "\n",
    "Description: The while loop repeatedly executes a block of code as long as a specified condition is True.\n",
    "\n",
    "Use Case: When the number of iterations is not known in advance, and the loop should continue until a condition is no longer met.\n",
    "\n",
    "Syntax<-"
   ]
  },
  {
   "cell_type": "code",
   "execution_count": 18,
   "id": "7271fd40-6bee-493a-9f09-bb7172abb755",
   "metadata": {},
   "outputs": [
    {
     "name": "stdout",
     "output_type": "stream",
     "text": [
      "1\n",
      "2\n",
      "3\n",
      "4\n",
      "5\n"
     ]
    }
   ],
   "source": [
    "# Printing numbers from 1 to 5\n",
    "i = 1\n",
    "while i <= 5:\n",
    "    print(i)\n",
    "    i += 1\n"
   ]
  },
  {
   "cell_type": "markdown",
   "id": "a4804d8a-674b-412f-8b99-f7d55c100dd9",
   "metadata": {},
   "source": [
    "else Clause with Loops:\n",
    "\n",
    "Description: The else block executes after the loop finishes normally (i.e., without encountering a break).\n",
    "\n",
    "Example:-"
   ]
  },
  {
   "cell_type": "code",
   "execution_count": 19,
   "id": "b25233a4-84d5-4c1a-9e1a-31ac6ac1ff7a",
   "metadata": {},
   "outputs": [
    {
     "name": "stdout",
     "output_type": "stream",
     "text": [
      "0\n",
      "1\n",
      "2\n",
      "3\n",
      "4\n",
      "Loop completed.\n"
     ]
    }
   ],
   "source": [
    "for i in range(5):\n",
    "    print(i)\n",
    "else:\n",
    "    print(\"Loop completed.\")\n"
   ]
  },
  {
   "cell_type": "code",
   "execution_count": null,
   "id": "ca4ef328-1435-4917-86dc-87a28f3783a0",
   "metadata": {},
   "outputs": [],
   "source": []
  }
 ],
 "metadata": {
  "kernelspec": {
   "display_name": "Python 3 (ipykernel)",
   "language": "python",
   "name": "python3"
  },
  "language_info": {
   "codemirror_mode": {
    "name": "ipython",
    "version": 3
   },
   "file_extension": ".py",
   "mimetype": "text/x-python",
   "name": "python",
   "nbconvert_exporter": "python",
   "pygments_lexer": "ipython3",
   "version": "3.10.8"
  }
 },
 "nbformat": 4,
 "nbformat_minor": 5
}
